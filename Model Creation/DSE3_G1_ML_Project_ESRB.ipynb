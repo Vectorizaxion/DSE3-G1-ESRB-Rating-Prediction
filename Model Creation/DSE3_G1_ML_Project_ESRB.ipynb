{
  "nbformat": 4,
  "nbformat_minor": 0,
  "metadata": {
    "language_info": {
      "codemirror_mode": {
        "name": "ipython",
        "version": 3
      },
      "file_extension": ".py",
      "mimetype": "text/x-python",
      "name": "python",
      "nbconvert_exporter": "python",
      "pygments_lexer": "ipython3",
      "version": "3.8.5"
    },
    "orig_nbformat": 2,
    "kernelspec": {
      "name": "python385jvsc74a57bd042588fd11209419b7c81abe23e31a1d2101f60811b02170c268e57ebb57d5d9a",
      "display_name": "Python 3.8.5 64-bit ('USER': virtualenv)"
    },
    "colab": {
      "name": "DSE3_G1_ML Project ESRB.ipynb",
      "provenance": [],
      "collapsed_sections": [
        "aFu0VQebPG3I",
        "Ed_oGupmPG3L",
        "cx1gFFrwPG3M"
      ],
      "toc_visible": true
    }
  },
  "cells": [
    {
      "cell_type": "code",
      "metadata": {
        "id": "ryYDUCtGPQSs",
        "colab": {
          "base_uri": "https://localhost:8080/"
        },
        "outputId": "18685345-a6f2-42f9-ec41-feb1783e7027"
      },
      "source": [
        "!pip install gdown\n",
        "!gdown --id 1AtPRPWhXmgyMVBs7PHYG3J3Sqk3iCVRC\n",
        "!unzip /content/archive.zip\n",
        "!rm /content/archive.zip"
      ],
      "execution_count": null,
      "outputs": [
        {
          "output_type": "stream",
          "text": [
            "Requirement already satisfied: gdown in /usr/local/lib/python3.7/dist-packages (3.6.4)\n",
            "Requirement already satisfied: requests in /usr/local/lib/python3.7/dist-packages (from gdown) (2.23.0)\n",
            "Requirement already satisfied: six in /usr/local/lib/python3.7/dist-packages (from gdown) (1.15.0)\n",
            "Requirement already satisfied: tqdm in /usr/local/lib/python3.7/dist-packages (from gdown) (4.41.1)\n",
            "Requirement already satisfied: urllib3!=1.25.0,!=1.25.1,<1.26,>=1.21.1 in /usr/local/lib/python3.7/dist-packages (from requests->gdown) (1.24.3)\n",
            "Requirement already satisfied: chardet<4,>=3.0.2 in /usr/local/lib/python3.7/dist-packages (from requests->gdown) (3.0.4)\n",
            "Requirement already satisfied: certifi>=2017.4.17 in /usr/local/lib/python3.7/dist-packages (from requests->gdown) (2020.12.5)\n",
            "Requirement already satisfied: idna<3,>=2.5 in /usr/local/lib/python3.7/dist-packages (from requests->gdown) (2.10)\n",
            "Downloading...\n",
            "From: https://drive.google.com/uc?id=1AtPRPWhXmgyMVBs7PHYG3J3Sqk3iCVRC\n",
            "To: /content/archive.zip\n",
            "100% 42.9k/42.9k [00:00<00:00, 1.35MB/s]\n",
            "Archive:  /content/archive.zip\n",
            "  inflating: Video_games_esrb_rating.csv  \n",
            "  inflating: test_esrb.csv           \n"
          ],
          "name": "stdout"
        }
      ]
    },
    {
      "cell_type": "markdown",
      "metadata": {
        "id": "i-T_ioSKPG26"
      },
      "source": [
        "# 1.Collect Data and Import Data"
      ]
    },
    {
      "cell_type": "code",
      "metadata": {
        "id": "3-2nWPxDPG3A"
      },
      "source": [
        "import pandas as pd"
      ],
      "execution_count": null,
      "outputs": []
    },
    {
      "cell_type": "code",
      "metadata": {
        "id": "-qags_6yPG3B"
      },
      "source": [
        "def load_data():\n",
        "    train_set = pd.read_csv('Video_games_esrb_rating.csv')\n",
        "    test_set = pd.read_csv('test_esrb.csv')\n",
        "    return train_set,test_set"
      ],
      "execution_count": null,
      "outputs": []
    },
    {
      "cell_type": "code",
      "metadata": {
        "id": "zRUpPU9hPG3C"
      },
      "source": [
        "train_set,test_set = load_data()"
      ],
      "execution_count": null,
      "outputs": []
    },
    {
      "cell_type": "code",
      "metadata": {
        "id": "WapdKUScPG3C",
        "colab": {
          "base_uri": "https://localhost:8080/",
          "height": 333
        },
        "outputId": "1dd13d4f-f1bd-4a5a-b4fa-a0ab8e96f97f"
      },
      "source": [
        "train_set.sample(5)"
      ],
      "execution_count": null,
      "outputs": [
        {
          "output_type": "execute_result",
          "data": {
            "text/html": [
              "<div>\n",
              "<style scoped>\n",
              "    .dataframe tbody tr th:only-of-type {\n",
              "        vertical-align: middle;\n",
              "    }\n",
              "\n",
              "    .dataframe tbody tr th {\n",
              "        vertical-align: top;\n",
              "    }\n",
              "\n",
              "    .dataframe thead th {\n",
              "        text-align: right;\n",
              "    }\n",
              "</style>\n",
              "<table border=\"1\" class=\"dataframe\">\n",
              "  <thead>\n",
              "    <tr style=\"text-align: right;\">\n",
              "      <th></th>\n",
              "      <th>title</th>\n",
              "      <th>console</th>\n",
              "      <th>alcohol_reference</th>\n",
              "      <th>animated_blood</th>\n",
              "      <th>blood</th>\n",
              "      <th>blood_and_gore</th>\n",
              "      <th>cartoon_violence</th>\n",
              "      <th>crude_humor</th>\n",
              "      <th>drug_reference</th>\n",
              "      <th>fantasy_violence</th>\n",
              "      <th>intense_violence</th>\n",
              "      <th>language</th>\n",
              "      <th>lyrics</th>\n",
              "      <th>mature_humor</th>\n",
              "      <th>mild_blood</th>\n",
              "      <th>mild_cartoon_violence</th>\n",
              "      <th>mild_fantasy_violence</th>\n",
              "      <th>mild_language</th>\n",
              "      <th>mild_lyrics</th>\n",
              "      <th>mild_suggestive_themes</th>\n",
              "      <th>mild_violence</th>\n",
              "      <th>no_descriptors</th>\n",
              "      <th>nudity</th>\n",
              "      <th>partial_nudity</th>\n",
              "      <th>sexual_content</th>\n",
              "      <th>sexual_themes</th>\n",
              "      <th>simulated_gambling</th>\n",
              "      <th>strong_janguage</th>\n",
              "      <th>strong_sexual_content</th>\n",
              "      <th>suggestive_themes</th>\n",
              "      <th>use_of_alcohol</th>\n",
              "      <th>use_of_drugs_and_alcohol</th>\n",
              "      <th>violence</th>\n",
              "      <th>esrb_rating</th>\n",
              "    </tr>\n",
              "  </thead>\n",
              "  <tbody>\n",
              "    <tr>\n",
              "      <th>1</th>\n",
              "      <td>Subnautica: Below Zero</td>\n",
              "      <td>1</td>\n",
              "      <td>0</td>\n",
              "      <td>1</td>\n",
              "      <td>0</td>\n",
              "      <td>0</td>\n",
              "      <td>0</td>\n",
              "      <td>0</td>\n",
              "      <td>0</td>\n",
              "      <td>0</td>\n",
              "      <td>1</td>\n",
              "      <td>0</td>\n",
              "      <td>0</td>\n",
              "      <td>0</td>\n",
              "      <td>0</td>\n",
              "      <td>0</td>\n",
              "      <td>0</td>\n",
              "      <td>0</td>\n",
              "      <td>0</td>\n",
              "      <td>1</td>\n",
              "      <td>0</td>\n",
              "      <td>0</td>\n",
              "      <td>0</td>\n",
              "      <td>0</td>\n",
              "      <td>0</td>\n",
              "      <td>0</td>\n",
              "      <td>0</td>\n",
              "      <td>0</td>\n",
              "      <td>0</td>\n",
              "      <td>0</td>\n",
              "      <td>0</td>\n",
              "      <td>0</td>\n",
              "      <td>0</td>\n",
              "      <td>ET</td>\n",
              "    </tr>\n",
              "    <tr>\n",
              "      <th>213</th>\n",
              "      <td>My Baby</td>\n",
              "      <td>1</td>\n",
              "      <td>0</td>\n",
              "      <td>0</td>\n",
              "      <td>0</td>\n",
              "      <td>0</td>\n",
              "      <td>0</td>\n",
              "      <td>0</td>\n",
              "      <td>0</td>\n",
              "      <td>0</td>\n",
              "      <td>0</td>\n",
              "      <td>0</td>\n",
              "      <td>0</td>\n",
              "      <td>0</td>\n",
              "      <td>0</td>\n",
              "      <td>0</td>\n",
              "      <td>0</td>\n",
              "      <td>0</td>\n",
              "      <td>0</td>\n",
              "      <td>0</td>\n",
              "      <td>0</td>\n",
              "      <td>1</td>\n",
              "      <td>0</td>\n",
              "      <td>0</td>\n",
              "      <td>0</td>\n",
              "      <td>0</td>\n",
              "      <td>0</td>\n",
              "      <td>0</td>\n",
              "      <td>0</td>\n",
              "      <td>0</td>\n",
              "      <td>0</td>\n",
              "      <td>0</td>\n",
              "      <td>0</td>\n",
              "      <td>E</td>\n",
              "    </tr>\n",
              "    <tr>\n",
              "      <th>1320</th>\n",
              "      <td>Lunch Truck Tycoon 2</td>\n",
              "      <td>0</td>\n",
              "      <td>0</td>\n",
              "      <td>0</td>\n",
              "      <td>0</td>\n",
              "      <td>0</td>\n",
              "      <td>0</td>\n",
              "      <td>0</td>\n",
              "      <td>0</td>\n",
              "      <td>0</td>\n",
              "      <td>0</td>\n",
              "      <td>0</td>\n",
              "      <td>0</td>\n",
              "      <td>0</td>\n",
              "      <td>0</td>\n",
              "      <td>0</td>\n",
              "      <td>0</td>\n",
              "      <td>0</td>\n",
              "      <td>0</td>\n",
              "      <td>0</td>\n",
              "      <td>1</td>\n",
              "      <td>0</td>\n",
              "      <td>0</td>\n",
              "      <td>0</td>\n",
              "      <td>0</td>\n",
              "      <td>0</td>\n",
              "      <td>0</td>\n",
              "      <td>0</td>\n",
              "      <td>0</td>\n",
              "      <td>0</td>\n",
              "      <td>0</td>\n",
              "      <td>0</td>\n",
              "      <td>0</td>\n",
              "      <td>ET</td>\n",
              "    </tr>\n",
              "    <tr>\n",
              "      <th>78</th>\n",
              "      <td>Mighty Gunvolt Burst</td>\n",
              "      <td>0</td>\n",
              "      <td>0</td>\n",
              "      <td>0</td>\n",
              "      <td>0</td>\n",
              "      <td>0</td>\n",
              "      <td>0</td>\n",
              "      <td>0</td>\n",
              "      <td>0</td>\n",
              "      <td>0</td>\n",
              "      <td>0</td>\n",
              "      <td>0</td>\n",
              "      <td>0</td>\n",
              "      <td>0</td>\n",
              "      <td>0</td>\n",
              "      <td>0</td>\n",
              "      <td>1</td>\n",
              "      <td>0</td>\n",
              "      <td>1</td>\n",
              "      <td>0</td>\n",
              "      <td>0</td>\n",
              "      <td>0</td>\n",
              "      <td>0</td>\n",
              "      <td>0</td>\n",
              "      <td>0</td>\n",
              "      <td>0</td>\n",
              "      <td>0</td>\n",
              "      <td>0</td>\n",
              "      <td>0</td>\n",
              "      <td>0</td>\n",
              "      <td>0</td>\n",
              "      <td>0</td>\n",
              "      <td>0</td>\n",
              "      <td>E</td>\n",
              "    </tr>\n",
              "    <tr>\n",
              "      <th>542</th>\n",
              "      <td>The Sims™ 4 Moschino Stuff Pack</td>\n",
              "      <td>1</td>\n",
              "      <td>0</td>\n",
              "      <td>0</td>\n",
              "      <td>0</td>\n",
              "      <td>0</td>\n",
              "      <td>0</td>\n",
              "      <td>1</td>\n",
              "      <td>0</td>\n",
              "      <td>0</td>\n",
              "      <td>0</td>\n",
              "      <td>0</td>\n",
              "      <td>0</td>\n",
              "      <td>0</td>\n",
              "      <td>0</td>\n",
              "      <td>0</td>\n",
              "      <td>0</td>\n",
              "      <td>0</td>\n",
              "      <td>0</td>\n",
              "      <td>0</td>\n",
              "      <td>0</td>\n",
              "      <td>0</td>\n",
              "      <td>0</td>\n",
              "      <td>0</td>\n",
              "      <td>0</td>\n",
              "      <td>0</td>\n",
              "      <td>1</td>\n",
              "      <td>0</td>\n",
              "      <td>0</td>\n",
              "      <td>0</td>\n",
              "      <td>0</td>\n",
              "      <td>0</td>\n",
              "      <td>0</td>\n",
              "      <td>T</td>\n",
              "    </tr>\n",
              "  </tbody>\n",
              "</table>\n",
              "</div>"
            ],
            "text/plain": [
              "                                title  console  ...  violence  esrb_rating\n",
              "1              Subnautica: Below Zero        1  ...         0           ET\n",
              "213                           My Baby        1  ...         0            E\n",
              "1320             Lunch Truck Tycoon 2        0  ...         0           ET\n",
              "78               Mighty Gunvolt Burst        0  ...         0            E\n",
              "542   The Sims™ 4 Moschino Stuff Pack        1  ...         0            T\n",
              "\n",
              "[5 rows x 34 columns]"
            ]
          },
          "metadata": {
            "tags": []
          },
          "execution_count": 5
        }
      ]
    },
    {
      "cell_type": "markdown",
      "metadata": {
        "id": "jaXzSvblPG3E"
      },
      "source": [
        "# 2.Data Clensing and Exploration"
      ]
    },
    {
      "cell_type": "markdown",
      "metadata": {
        "id": "GTr38B9xQKNw"
      },
      "source": [
        "## Unique Feature Checking"
      ]
    },
    {
      "cell_type": "code",
      "metadata": {
        "colab": {
          "base_uri": "https://localhost:8080/"
        },
        "id": "fJzew3kRQP0z",
        "outputId": "47376ba8-a216-4313-fa13-e519ef93d5b8"
      },
      "source": [
        "for col in train_set:\n",
        "    print(col,' : ',train_set[col].unique())\n",
        "    print('-------------------------------------------------------------')"
      ],
      "execution_count": null,
      "outputs": [
        {
          "output_type": "stream",
          "text": [
            "title  :  ['Monster Jam Steel Titans 2' 'Subnautica: Below Zero'\n",
            " 'NIER REPLICANT VER.1.22474487139…' ... 'SPARC' 'Still Time'\n",
            " 'Surf World Series']\n",
            "-------------------------------------------------------------\n",
            "console  :  [1 0]\n",
            "-------------------------------------------------------------\n",
            "alcohol_reference  :  [0 1]\n",
            "-------------------------------------------------------------\n",
            "animated_blood  :  [0 1]\n",
            "-------------------------------------------------------------\n",
            "blood  :  [0 1]\n",
            "-------------------------------------------------------------\n",
            "blood_and_gore  :  [0 1]\n",
            "-------------------------------------------------------------\n",
            "cartoon_violence  :  [0 1]\n",
            "-------------------------------------------------------------\n",
            "crude_humor  :  [0 1]\n",
            "-------------------------------------------------------------\n",
            "drug_reference  :  [0 1]\n",
            "-------------------------------------------------------------\n",
            "fantasy_violence  :  [0 1]\n",
            "-------------------------------------------------------------\n",
            "intense_violence  :  [0 1]\n",
            "-------------------------------------------------------------\n",
            "language  :  [0 1]\n",
            "-------------------------------------------------------------\n",
            "lyrics  :  [0 1]\n",
            "-------------------------------------------------------------\n",
            "mature_humor  :  [0 1]\n",
            "-------------------------------------------------------------\n",
            "mild_blood  :  [0 1]\n",
            "-------------------------------------------------------------\n",
            "mild_cartoon_violence  :  [0 1]\n",
            "-------------------------------------------------------------\n",
            "mild_fantasy_violence  :  [0 1]\n",
            "-------------------------------------------------------------\n",
            "mild_language  :  [0 1]\n",
            "-------------------------------------------------------------\n",
            "mild_lyrics  :  [0 1]\n",
            "-------------------------------------------------------------\n",
            "mild_suggestive_themes  :  [0 1]\n",
            "-------------------------------------------------------------\n",
            "mild_violence  :  [0 1]\n",
            "-------------------------------------------------------------\n",
            "no_descriptors  :  [1 0]\n",
            "-------------------------------------------------------------\n",
            "nudity  :  [0 1]\n",
            "-------------------------------------------------------------\n",
            "partial_nudity  :  [0 1]\n",
            "-------------------------------------------------------------\n",
            "sexual_content  :  [0 1]\n",
            "-------------------------------------------------------------\n",
            "sexual_themes  :  [0 1]\n",
            "-------------------------------------------------------------\n",
            "simulated_gambling  :  [0 1]\n",
            "-------------------------------------------------------------\n",
            "strong_janguage  :  [0 1]\n",
            "-------------------------------------------------------------\n",
            "strong_sexual_content  :  [0 1]\n",
            "-------------------------------------------------------------\n",
            "suggestive_themes  :  [0 1]\n",
            "-------------------------------------------------------------\n",
            "use_of_alcohol  :  [0 1]\n",
            "-------------------------------------------------------------\n",
            "use_of_drugs_and_alcohol  :  [0 1]\n",
            "-------------------------------------------------------------\n",
            "violence  :  [0 1]\n",
            "-------------------------------------------------------------\n",
            "esrb_rating  :  ['E' 'ET' 'M' 'T']\n",
            "-------------------------------------------------------------\n"
          ],
          "name": "stdout"
        }
      ]
    },
    {
      "cell_type": "markdown",
      "metadata": {
        "id": "McZ_K99bPG3E"
      },
      "source": [
        "## Dimension Checking"
      ]
    },
    {
      "cell_type": "code",
      "metadata": {
        "id": "hBMNKBtgPG3F",
        "colab": {
          "base_uri": "https://localhost:8080/"
        },
        "outputId": "de3d0cd1-ebfe-49fd-d2c2-216ee4547880"
      },
      "source": [
        "train_set.shape # 1895 Games and 33 Features 1 Label"
      ],
      "execution_count": null,
      "outputs": [
        {
          "output_type": "execute_result",
          "data": {
            "text/plain": [
              "(1895, 34)"
            ]
          },
          "metadata": {
            "tags": []
          },
          "execution_count": 7
        }
      ]
    },
    {
      "cell_type": "code",
      "metadata": {
        "id": "xu2VU840PG3G",
        "colab": {
          "base_uri": "https://localhost:8080/"
        },
        "outputId": "045d4c60-2831-4239-df4d-d311960b98f0"
      },
      "source": [
        "test_set.shape # 500 Games and 33 Features 1 Label"
      ],
      "execution_count": null,
      "outputs": [
        {
          "output_type": "execute_result",
          "data": {
            "text/plain": [
              "(500, 34)"
            ]
          },
          "metadata": {
            "tags": []
          },
          "execution_count": 8
        }
      ]
    },
    {
      "cell_type": "markdown",
      "metadata": {
        "id": "RM2PRPCDPG3G"
      },
      "source": [
        "## Data Type Checking"
      ]
    },
    {
      "cell_type": "code",
      "metadata": {
        "id": "N6Qjg1oqPG3H",
        "colab": {
          "base_uri": "https://localhost:8080/"
        },
        "outputId": "8732bf8c-e198-4760-fd5e-5afcbb94315d"
      },
      "source": [
        "train_set.dtypes"
      ],
      "execution_count": null,
      "outputs": [
        {
          "output_type": "execute_result",
          "data": {
            "text/plain": [
              "title                       object\n",
              "console                      int64\n",
              "alcohol_reference            int64\n",
              "animated_blood               int64\n",
              "blood                        int64\n",
              "blood_and_gore               int64\n",
              "cartoon_violence             int64\n",
              "crude_humor                  int64\n",
              "drug_reference               int64\n",
              "fantasy_violence             int64\n",
              "intense_violence             int64\n",
              "language                     int64\n",
              "lyrics                       int64\n",
              "mature_humor                 int64\n",
              "mild_blood                   int64\n",
              "mild_cartoon_violence        int64\n",
              "mild_fantasy_violence        int64\n",
              "mild_language                int64\n",
              "mild_lyrics                  int64\n",
              "mild_suggestive_themes       int64\n",
              "mild_violence                int64\n",
              "no_descriptors               int64\n",
              "nudity                       int64\n",
              "partial_nudity               int64\n",
              "sexual_content               int64\n",
              "sexual_themes                int64\n",
              "simulated_gambling           int64\n",
              "strong_janguage              int64\n",
              "strong_sexual_content        int64\n",
              "suggestive_themes            int64\n",
              "use_of_alcohol               int64\n",
              "use_of_drugs_and_alcohol     int64\n",
              "violence                     int64\n",
              "esrb_rating                 object\n",
              "dtype: object"
            ]
          },
          "metadata": {
            "tags": []
          },
          "execution_count": 9
        }
      ]
    },
    {
      "cell_type": "code",
      "metadata": {
        "id": "Ze9tjk1JPG3H",
        "colab": {
          "base_uri": "https://localhost:8080/"
        },
        "outputId": "923ddf55-35de-479c-da61-e6fa40ea4c57"
      },
      "source": [
        "test_set.dtypes"
      ],
      "execution_count": null,
      "outputs": [
        {
          "output_type": "execute_result",
          "data": {
            "text/plain": [
              "title                       object\n",
              "console                      int64\n",
              "alcohol_reference            int64\n",
              "animated_blood               int64\n",
              "blood                        int64\n",
              "blood_and_gore               int64\n",
              "cartoon_violence             int64\n",
              "crude_humor                  int64\n",
              "drug_reference               int64\n",
              "fantasy_violence             int64\n",
              "intense_violence             int64\n",
              "language                     int64\n",
              "lyrics                       int64\n",
              "mature_humor                 int64\n",
              "mild_blood                   int64\n",
              "mild_cartoon_violence        int64\n",
              "mild_fantasy_violence        int64\n",
              "mild_language                int64\n",
              "mild_lyrics                  int64\n",
              "mild_suggestive_themes       int64\n",
              "mild_violence                int64\n",
              "no_descriptors               int64\n",
              "nudity                       int64\n",
              "partial_nudity               int64\n",
              "sexual_content               int64\n",
              "sexual_themes                int64\n",
              "simulated_gambling           int64\n",
              "strong_janguage              int64\n",
              "strong_sexual_content        int64\n",
              "suggestive_themes            int64\n",
              "use_of_alcohol               int64\n",
              "use_of_drugs_and_alcohol     int64\n",
              "violence                     int64\n",
              "esrb_rating                 object\n",
              "dtype: object"
            ]
          },
          "metadata": {
            "tags": []
          },
          "execution_count": 10
        }
      ]
    },
    {
      "cell_type": "markdown",
      "metadata": {
        "id": "aFu0VQebPG3I"
      },
      "source": [
        "## Class Checking "
      ]
    },
    {
      "cell_type": "markdown",
      "metadata": {
        "id": "wxA3eZM_PG3I"
      },
      "source": [
        "Class Remark\n",
        "- T = Teen\n",
        "- E = Everyone\n",
        "- ET = Everyone 10+\n",
        "- M = Mature 17+"
      ]
    },
    {
      "cell_type": "code",
      "metadata": {
        "id": "BnSP2gVQPG3I",
        "colab": {
          "base_uri": "https://localhost:8080/"
        },
        "outputId": "fdc82593-f176-40bd-deec-7ebccf61836c"
      },
      "source": [
        "train_set['esrb_rating'].value_counts().plot(kind='bar',title='Train Set Class')"
      ],
      "execution_count": null,
      "outputs": [
        {
          "output_type": "execute_result",
          "data": {
            "text/plain": [
              "<matplotlib.axes._subplots.AxesSubplot at 0x7fb26e1ae550>"
            ]
          },
          "metadata": {
            "tags": []
          },
          "execution_count": 11
        },
        {
          "output_type": "display_data",
          "data": {
            "image/png": "[encoded data removed]",
            "text/plain": [
              "<Figure size 432x288 with 1 Axes>"
            ]
          },
          "metadata": {
            "tags": [],
            "needs_background": "light"
          }
        }
      ]
    },
    {
      "cell_type": "code",
      "metadata": {
        "id": "6-DQ4uo5PG3J",
        "colab": {
          "base_uri": "https://localhost:8080/"
        },
        "outputId": "0f6fda75-0300-4750-b445-3a86cf4a80af"
      },
      "source": [
        "train_set['esrb_rating'].value_counts()"
      ],
      "execution_count": null,
      "outputs": [
        {
          "output_type": "execute_result",
          "data": {
            "text/plain": [
              "T     689\n",
              "E     416\n",
              "ET    403\n",
              "M     387\n",
              "Name: esrb_rating, dtype: int64"
            ]
          },
          "metadata": {
            "tags": []
          },
          "execution_count": 12
        }
      ]
    },
    {
      "cell_type": "code",
      "metadata": {
        "id": "FQy0uTsyPG3K",
        "colab": {
          "base_uri": "https://localhost:8080/"
        },
        "outputId": "bd615a17-0b12-4c69-e973-bae40b5081c6"
      },
      "source": [
        "test_set['esrb_rating'].value_counts().plot(kind='bar',title='Test Set Class')"
      ],
      "execution_count": null,
      "outputs": [
        {
          "output_type": "execute_result",
          "data": {
            "text/plain": [
              "<matplotlib.axes._subplots.AxesSubplot at 0x7fb26e13b890>"
            ]
          },
          "metadata": {
            "tags": []
          },
          "execution_count": 13
        },
        {
          "output_type": "display_data",
          "data": {
            "image/png": "[encoded data removed]",
            "text/plain": [
              "<Figure size 432x288 with 1 Axes>"
            ]
          },
          "metadata": {
            "tags": [],
            "needs_background": "light"
          }
        }
      ]
    },
    {
      "cell_type": "code",
      "metadata": {
        "id": "o9Va2IsjPG3K",
        "colab": {
          "base_uri": "https://localhost:8080/"
        },
        "outputId": "05c05045-30d1-4074-cf42-f3a8b595fd5d"
      },
      "source": [
        "test_set['esrb_rating'].value_counts()"
      ],
      "execution_count": null,
      "outputs": [
        {
          "output_type": "execute_result",
          "data": {
            "text/plain": [
              "T     184\n",
              "ET    126\n",
              "E     100\n",
              "M      90\n",
              "Name: esrb_rating, dtype: int64"
            ]
          },
          "metadata": {
            "tags": []
          },
          "execution_count": 14
        }
      ]
    },
    {
      "cell_type": "code",
      "metadata": {
        "id": "PEBRPHLDPG3L"
      },
      "source": [
        ""
      ],
      "execution_count": null,
      "outputs": []
    },
    {
      "cell_type": "markdown",
      "metadata": {
        "id": "Ed_oGupmPG3L"
      },
      "source": [
        "## Null Value Checking"
      ]
    },
    {
      "cell_type": "code",
      "metadata": {
        "id": "cz_GySB8PG3L",
        "colab": {
          "base_uri": "https://localhost:8080/"
        },
        "outputId": "30c42880-d41b-422e-a9da-df65d7c09602"
      },
      "source": [
        "train_set.isnull().sum() # No Null Value Problem"
      ],
      "execution_count": null,
      "outputs": [
        {
          "output_type": "execute_result",
          "data": {
            "text/plain": [
              "title                       0\n",
              "console                     0\n",
              "alcohol_reference           0\n",
              "animated_blood              0\n",
              "blood                       0\n",
              "blood_and_gore              0\n",
              "cartoon_violence            0\n",
              "crude_humor                 0\n",
              "drug_reference              0\n",
              "fantasy_violence            0\n",
              "intense_violence            0\n",
              "language                    0\n",
              "lyrics                      0\n",
              "mature_humor                0\n",
              "mild_blood                  0\n",
              "mild_cartoon_violence       0\n",
              "mild_fantasy_violence       0\n",
              "mild_language               0\n",
              "mild_lyrics                 0\n",
              "mild_suggestive_themes      0\n",
              "mild_violence               0\n",
              "no_descriptors              0\n",
              "nudity                      0\n",
              "partial_nudity              0\n",
              "sexual_content              0\n",
              "sexual_themes               0\n",
              "simulated_gambling          0\n",
              "strong_janguage             0\n",
              "strong_sexual_content       0\n",
              "suggestive_themes           0\n",
              "use_of_alcohol              0\n",
              "use_of_drugs_and_alcohol    0\n",
              "violence                    0\n",
              "esrb_rating                 0\n",
              "dtype: int64"
            ]
          },
          "metadata": {
            "tags": []
          },
          "execution_count": 15
        }
      ]
    },
    {
      "cell_type": "code",
      "metadata": {
        "id": "oq0-wDlHPG3M",
        "colab": {
          "base_uri": "https://localhost:8080/"
        },
        "outputId": "802954e0-7d2d-40ec-9ced-0e3cae02f823"
      },
      "source": [
        "test_set.isna().sum() # No Null Value Problem"
      ],
      "execution_count": null,
      "outputs": [
        {
          "output_type": "execute_result",
          "data": {
            "text/plain": [
              "title                       0\n",
              "console                     0\n",
              "alcohol_reference           0\n",
              "animated_blood              0\n",
              "blood                       0\n",
              "blood_and_gore              0\n",
              "cartoon_violence            0\n",
              "crude_humor                 0\n",
              "drug_reference              0\n",
              "fantasy_violence            0\n",
              "intense_violence            0\n",
              "language                    0\n",
              "lyrics                      0\n",
              "mature_humor                0\n",
              "mild_blood                  0\n",
              "mild_cartoon_violence       0\n",
              "mild_fantasy_violence       0\n",
              "mild_language               0\n",
              "mild_lyrics                 0\n",
              "mild_suggestive_themes      0\n",
              "mild_violence               0\n",
              "no_descriptors              0\n",
              "nudity                      0\n",
              "partial_nudity              0\n",
              "sexual_content              0\n",
              "sexual_themes               0\n",
              "simulated_gambling          0\n",
              "strong_janguage             0\n",
              "strong_sexual_content       0\n",
              "suggestive_themes           0\n",
              "use_of_alcohol              0\n",
              "use_of_drugs_and_alcohol    0\n",
              "violence                    0\n",
              "esrb_rating                 0\n",
              "dtype: int64"
            ]
          },
          "metadata": {
            "tags": []
          },
          "execution_count": 16
        }
      ]
    },
    {
      "cell_type": "markdown",
      "metadata": {
        "id": "cx1gFFrwPG3M"
      },
      "source": [
        "## Shuffle Data"
      ]
    },
    {
      "cell_type": "code",
      "metadata": {
        "id": "EqF7fOkrPG3M"
      },
      "source": [
        "def data_preprocessing(df) :   \n",
        "  # Shuffle the data\n",
        "  df = df.sample(frac=1.0, random_state=41).reset_index(drop=True)"
      ],
      "execution_count": null,
      "outputs": []
    },
    {
      "cell_type": "code",
      "metadata": {
        "id": "HGGnrJuSPG3N"
      },
      "source": [
        "data_preprocessing(train_set)\n",
        "data_preprocessing(test_set)"
      ],
      "execution_count": null,
      "outputs": []
    },
    {
      "cell_type": "markdown",
      "metadata": {
        "id": "EoLUlesaPG3N"
      },
      "source": [
        "# 3. Feature Extraction"
      ]
    },
    {
      "cell_type": "code",
      "metadata": {
        "id": "47sTdpo9PG3O"
      },
      "source": [
        "def Feature_Extraction(df):\n",
        "    label = df['esrb_rating']\n",
        "    label = df['esrb_rating'].map({ \"E\" :0, \"ET\" : 1 , \"T\" : 2 , \"M\" : 3}) # แปลง Class ให้เป็นตัวเลข\n",
        "    feature = df.drop(['title','esrb_rating','console'], axis=1)\n",
        "    feature = feature._get_numeric_data()\n",
        "    return feature,label"
      ],
      "execution_count": null,
      "outputs": []
    },
    {
      "cell_type": "code",
      "metadata": {
        "id": "IrTR9k5lPG3P"
      },
      "source": [
        "train_feature,train_label = Feature_Extraction(train_set)"
      ],
      "execution_count": null,
      "outputs": []
    },
    {
      "cell_type": "code",
      "metadata": {
        "id": "OFr_br4_PG3P"
      },
      "source": [
        "test_feature,test_label = Feature_Extraction(test_set)"
      ],
      "execution_count": null,
      "outputs": []
    },
    {
      "cell_type": "code",
      "metadata": {
        "colab": {
          "base_uri": "https://localhost:8080/"
        },
        "id": "ZPuytfzm8jDa",
        "outputId": "7a61022f-f4cd-4e90-fde2-ad05b53c5e11"
      },
      "source": [
        "train_feature.dtypes"
      ],
      "execution_count": null,
      "outputs": [
        {
          "output_type": "execute_result",
          "data": {
            "text/plain": [
              "alcohol_reference           int64\n",
              "animated_blood              int64\n",
              "blood                       int64\n",
              "blood_and_gore              int64\n",
              "cartoon_violence            int64\n",
              "crude_humor                 int64\n",
              "drug_reference              int64\n",
              "fantasy_violence            int64\n",
              "intense_violence            int64\n",
              "language                    int64\n",
              "lyrics                      int64\n",
              "mature_humor                int64\n",
              "mild_blood                  int64\n",
              "mild_cartoon_violence       int64\n",
              "mild_fantasy_violence       int64\n",
              "mild_language               int64\n",
              "mild_lyrics                 int64\n",
              "mild_suggestive_themes      int64\n",
              "mild_violence               int64\n",
              "no_descriptors              int64\n",
              "nudity                      int64\n",
              "partial_nudity              int64\n",
              "sexual_content              int64\n",
              "sexual_themes               int64\n",
              "simulated_gambling          int64\n",
              "strong_janguage             int64\n",
              "strong_sexual_content       int64\n",
              "suggestive_themes           int64\n",
              "use_of_alcohol              int64\n",
              "use_of_drugs_and_alcohol    int64\n",
              "violence                    int64\n",
              "dtype: object"
            ]
          },
          "metadata": {
            "tags": []
          },
          "execution_count": 22
        }
      ]
    },
    {
      "cell_type": "code",
      "metadata": {
        "id": "W80d9RMxPG3P",
        "colab": {
          "base_uri": "https://localhost:8080/"
        },
        "outputId": "b96335e0-d74a-4fa1-e97b-26ba86926852"
      },
      "source": [
        "train_label.dtypes"
      ],
      "execution_count": null,
      "outputs": [
        {
          "output_type": "execute_result",
          "data": {
            "text/plain": [
              "dtype('int64')"
            ]
          },
          "metadata": {
            "tags": []
          },
          "execution_count": 23
        }
      ]
    },
    {
      "cell_type": "markdown",
      "metadata": {
        "id": "rNLX7IN-PG3Q"
      },
      "source": [
        "# 4.Training Model"
      ]
    },
    {
      "cell_type": "markdown",
      "metadata": {
        "id": "h2HNiBUfPG3Q"
      },
      "source": [
        "## Random Forest"
      ]
    },
    {
      "cell_type": "code",
      "metadata": {
        "id": "y6O3kSliPG3Q"
      },
      "source": [
        "def RandomForest_Training_Model(feature,label):\n",
        "    from sklearn.ensemble import RandomForestClassifier\n",
        "\n",
        "    RF_Model = RandomForestClassifier(  max_depth=10,random_state=41,criterion='entropy',n_estimators=40,oob_score=True, n_jobs=-1,min_samples_leaf=10)\n",
        "\n",
        "    clf_RF_model = RF_Model.fit(feature,label)\n",
        "\n",
        "    return clf_RF_model"
      ],
      "execution_count": null,
      "outputs": []
    },
    {
      "cell_type": "code",
      "metadata": {
        "id": "rgLssTkpPG3R"
      },
      "source": [
        "ESRB_RF_Model = RandomForest_Training_Model(train_feature,train_label)"
      ],
      "execution_count": null,
      "outputs": []
    },
    {
      "cell_type": "code",
      "metadata": {
        "id": "XipdrEMyPG3R",
        "colab": {
          "base_uri": "https://localhost:8080/"
        },
        "outputId": "cc48bb0b-9960-438d-dc94-642fc1a1619e"
      },
      "source": [
        "# RF Feature Improtance\n",
        "feat_imp = pd.DataFrame()\n",
        "feat_imp['feat_name'] = train_feature.columns\n",
        "feat_imp['score'] = ESRB_RF_Model.feature_importances_\n",
        "feat_imp.sort_values(by='score', ascending=False)"
      ],
      "execution_count": null,
      "outputs": [
        {
          "output_type": "execute_result",
          "data": {
            "text/html": [
              "<div>\n",
              "<style scoped>\n",
              "    .dataframe tbody tr th:only-of-type {\n",
              "        vertical-align: middle;\n",
              "    }\n",
              "\n",
              "    .dataframe tbody tr th {\n",
              "        vertical-align: top;\n",
              "    }\n",
              "\n",
              "    .dataframe thead th {\n",
              "        text-align: right;\n",
              "    }\n",
              "</style>\n",
              "<table border=\"1\" class=\"dataframe\">\n",
              "  <thead>\n",
              "    <tr style=\"text-align: right;\">\n",
              "      <th></th>\n",
              "      <th>feat_name</th>\n",
              "      <th>score</th>\n",
              "    </tr>\n",
              "  </thead>\n",
              "  <tbody>\n",
              "    <tr>\n",
              "      <th>19</th>\n",
              "      <td>no_descriptors</td>\n",
              "      <td>0.172877</td>\n",
              "    </tr>\n",
              "    <tr>\n",
              "      <th>3</th>\n",
              "      <td>blood_and_gore</td>\n",
              "      <td>0.162438</td>\n",
              "    </tr>\n",
              "    <tr>\n",
              "      <th>25</th>\n",
              "      <td>strong_janguage</td>\n",
              "      <td>0.155777</td>\n",
              "    </tr>\n",
              "    <tr>\n",
              "      <th>7</th>\n",
              "      <td>fantasy_violence</td>\n",
              "      <td>0.133550</td>\n",
              "    </tr>\n",
              "    <tr>\n",
              "      <th>2</th>\n",
              "      <td>blood</td>\n",
              "      <td>0.130926</td>\n",
              "    </tr>\n",
              "    <tr>\n",
              "      <th>14</th>\n",
              "      <td>mild_fantasy_violence</td>\n",
              "      <td>0.050476</td>\n",
              "    </tr>\n",
              "    <tr>\n",
              "      <th>27</th>\n",
              "      <td>suggestive_themes</td>\n",
              "      <td>0.028131</td>\n",
              "    </tr>\n",
              "    <tr>\n",
              "      <th>23</th>\n",
              "      <td>sexual_themes</td>\n",
              "      <td>0.026715</td>\n",
              "    </tr>\n",
              "    <tr>\n",
              "      <th>30</th>\n",
              "      <td>violence</td>\n",
              "      <td>0.023213</td>\n",
              "    </tr>\n",
              "    <tr>\n",
              "      <th>8</th>\n",
              "      <td>intense_violence</td>\n",
              "      <td>0.018068</td>\n",
              "    </tr>\n",
              "    <tr>\n",
              "      <th>24</th>\n",
              "      <td>simulated_gambling</td>\n",
              "      <td>0.016366</td>\n",
              "    </tr>\n",
              "    <tr>\n",
              "      <th>26</th>\n",
              "      <td>strong_sexual_content</td>\n",
              "      <td>0.013846</td>\n",
              "    </tr>\n",
              "    <tr>\n",
              "      <th>9</th>\n",
              "      <td>language</td>\n",
              "      <td>0.012300</td>\n",
              "    </tr>\n",
              "    <tr>\n",
              "      <th>5</th>\n",
              "      <td>crude_humor</td>\n",
              "      <td>0.009860</td>\n",
              "    </tr>\n",
              "    <tr>\n",
              "      <th>13</th>\n",
              "      <td>mild_cartoon_violence</td>\n",
              "      <td>0.007907</td>\n",
              "    </tr>\n",
              "    <tr>\n",
              "      <th>12</th>\n",
              "      <td>mild_blood</td>\n",
              "      <td>0.007616</td>\n",
              "    </tr>\n",
              "    <tr>\n",
              "      <th>0</th>\n",
              "      <td>alcohol_reference</td>\n",
              "      <td>0.007018</td>\n",
              "    </tr>\n",
              "    <tr>\n",
              "      <th>16</th>\n",
              "      <td>mild_lyrics</td>\n",
              "      <td>0.004554</td>\n",
              "    </tr>\n",
              "    <tr>\n",
              "      <th>4</th>\n",
              "      <td>cartoon_violence</td>\n",
              "      <td>0.003910</td>\n",
              "    </tr>\n",
              "    <tr>\n",
              "      <th>17</th>\n",
              "      <td>mild_suggestive_themes</td>\n",
              "      <td>0.003565</td>\n",
              "    </tr>\n",
              "    <tr>\n",
              "      <th>22</th>\n",
              "      <td>sexual_content</td>\n",
              "      <td>0.003102</td>\n",
              "    </tr>\n",
              "    <tr>\n",
              "      <th>18</th>\n",
              "      <td>mild_violence</td>\n",
              "      <td>0.002844</td>\n",
              "    </tr>\n",
              "    <tr>\n",
              "      <th>6</th>\n",
              "      <td>drug_reference</td>\n",
              "      <td>0.001918</td>\n",
              "    </tr>\n",
              "    <tr>\n",
              "      <th>15</th>\n",
              "      <td>mild_language</td>\n",
              "      <td>0.001357</td>\n",
              "    </tr>\n",
              "    <tr>\n",
              "      <th>10</th>\n",
              "      <td>lyrics</td>\n",
              "      <td>0.001205</td>\n",
              "    </tr>\n",
              "    <tr>\n",
              "      <th>1</th>\n",
              "      <td>animated_blood</td>\n",
              "      <td>0.000251</td>\n",
              "    </tr>\n",
              "    <tr>\n",
              "      <th>29</th>\n",
              "      <td>use_of_drugs_and_alcohol</td>\n",
              "      <td>0.000134</td>\n",
              "    </tr>\n",
              "    <tr>\n",
              "      <th>28</th>\n",
              "      <td>use_of_alcohol</td>\n",
              "      <td>0.000075</td>\n",
              "    </tr>\n",
              "    <tr>\n",
              "      <th>20</th>\n",
              "      <td>nudity</td>\n",
              "      <td>0.000000</td>\n",
              "    </tr>\n",
              "    <tr>\n",
              "      <th>21</th>\n",
              "      <td>partial_nudity</td>\n",
              "      <td>0.000000</td>\n",
              "    </tr>\n",
              "    <tr>\n",
              "      <th>11</th>\n",
              "      <td>mature_humor</td>\n",
              "      <td>0.000000</td>\n",
              "    </tr>\n",
              "  </tbody>\n",
              "</table>\n",
              "</div>"
            ],
            "text/plain": [
              "                   feat_name     score\n",
              "19            no_descriptors  0.172877\n",
              "3             blood_and_gore  0.162438\n",
              "25           strong_janguage  0.155777\n",
              "7           fantasy_violence  0.133550\n",
              "2                      blood  0.130926\n",
              "14     mild_fantasy_violence  0.050476\n",
              "27         suggestive_themes  0.028131\n",
              "23             sexual_themes  0.026715\n",
              "30                  violence  0.023213\n",
              "8           intense_violence  0.018068\n",
              "24        simulated_gambling  0.016366\n",
              "26     strong_sexual_content  0.013846\n",
              "9                   language  0.012300\n",
              "5                crude_humor  0.009860\n",
              "13     mild_cartoon_violence  0.007907\n",
              "12                mild_blood  0.007616\n",
              "0          alcohol_reference  0.007018\n",
              "16               mild_lyrics  0.004554\n",
              "4           cartoon_violence  0.003910\n",
              "17    mild_suggestive_themes  0.003565\n",
              "22            sexual_content  0.003102\n",
              "18             mild_violence  0.002844\n",
              "6             drug_reference  0.001918\n",
              "15             mild_language  0.001357\n",
              "10                    lyrics  0.001205\n",
              "1             animated_blood  0.000251\n",
              "29  use_of_drugs_and_alcohol  0.000134\n",
              "28            use_of_alcohol  0.000075\n",
              "20                    nudity  0.000000\n",
              "21            partial_nudity  0.000000\n",
              "11              mature_humor  0.000000"
            ]
          },
          "metadata": {
            "tags": []
          },
          "execution_count": 26
        }
      ]
    },
    {
      "cell_type": "markdown",
      "metadata": {
        "id": "0KCzGo8JPG3U"
      },
      "source": [
        "# 5.Evaluation"
      ]
    },
    {
      "cell_type": "markdown",
      "metadata": {
        "id": "X2yEhD6hGFZw"
      },
      "source": [
        "Train set"
      ]
    },
    {
      "cell_type": "code",
      "metadata": {
        "id": "sbMUmthyGI14"
      },
      "source": [
        "ESRB_RF_Prediction = ESRB_RF_Model.predict(train_feature)"
      ],
      "execution_count": null,
      "outputs": []
    },
    {
      "cell_type": "code",
      "metadata": {
        "id": "go1udPIeGLU1"
      },
      "source": [
        "def Model_Performace_Score(y_actual,y_predict):\n",
        "    from sklearn.metrics import accuracy_score\n",
        "    from sklearn.metrics import precision_score\n",
        "    from sklearn.metrics import recall_score\n",
        "    from sklearn.metrics import f1_score\n",
        "    \n",
        "    DT_Accuracy = format(accuracy_score(y_actual,y_predict))\n",
        "    DT_Precision = format(precision_score(y_actual,y_predict,average='macro'))\n",
        "    DT_Recall =format(recall_score(y_actual,y_predict,average='macro'))\n",
        "    DT_F1=format(f1_score(y_actual,y_predict,average='macro'))\n",
        "    Accuracy=print('Accuracy score: ', DT_Accuracy)\n",
        "    Precision=print('Precision score: ',DT_Precision)\n",
        "    Recall=print('Recall score:',DT_Recall)\n",
        "    F1=print('F1 score: ',DT_F1)\n",
        "    return  (Accuracy,Precision,Recall,F1)"
      ],
      "execution_count": null,
      "outputs": []
    },
    {
      "cell_type": "code",
      "metadata": {
        "colab": {
          "base_uri": "https://localhost:8080/"
        },
        "id": "wFadPfUAGOFb",
        "outputId": "05896280-493a-4a11-a3b0-ffad2e7541ee"
      },
      "source": [
        "Model_Performace_Score(train_label,ESRB_RF_Prediction)"
      ],
      "execution_count": null,
      "outputs": [
        {
          "output_type": "stream",
          "text": [
            "Accuracy score:  0.7931398416886544\n",
            "Precision score:  0.8068679647185301\n",
            "Recall score: 0.7970873162851065\n",
            "F1 score:  0.801082493364769\n"
          ],
          "name": "stdout"
        },
        {
          "output_type": "execute_result",
          "data": {
            "text/plain": [
              "(None, None, None, None)"
            ]
          },
          "metadata": {
            "tags": []
          },
          "execution_count": 29
        }
      ]
    },
    {
      "cell_type": "code",
      "metadata": {
        "id": "XhyhzLsLPG3U"
      },
      "source": [
        "ESRB_RF_Prediction = ESRB_RF_Model.predict(test_feature)"
      ],
      "execution_count": null,
      "outputs": []
    },
    {
      "cell_type": "code",
      "metadata": {
        "id": "n5Ak0bo3PG3V"
      },
      "source": [
        "def Model_Performace_Score(y_actual,y_predict):\n",
        "    from sklearn.metrics import accuracy_score\n",
        "    from sklearn.metrics import precision_score\n",
        "    from sklearn.metrics import recall_score\n",
        "    from sklearn.metrics import f1_score\n",
        "    \n",
        "    DT_Accuracy = format(accuracy_score(y_actual,y_predict))\n",
        "    DT_Precision = format(precision_score(y_actual,y_predict,average='macro'))\n",
        "    DT_Recall =format(recall_score(y_actual,y_predict,average='macro'))\n",
        "    DT_F1=format(f1_score(y_actual,y_predict,average='macro'))\n",
        "    Accuracy=print('Accuracy score: ', DT_Accuracy)\n",
        "    Precision=print('Precision score: ',DT_Precision)\n",
        "    Recall=print('Recall score:',DT_Recall)\n",
        "    F1=print('F1 score: ',DT_F1)\n",
        "    return  (Accuracy,Precision,Recall,F1)"
      ],
      "execution_count": null,
      "outputs": []
    },
    {
      "cell_type": "markdown",
      "metadata": {
        "id": "-NFmogn4GD7n"
      },
      "source": [
        ""
      ]
    },
    {
      "cell_type": "code",
      "metadata": {
        "id": "neyuvBPVPG3V",
        "colab": {
          "base_uri": "https://localhost:8080/"
        },
        "outputId": "025ace9d-c5b2-4483-a7f6-2fa587a2c3e0"
      },
      "source": [
        "Model_Performace_Score(test_label,ESRB_RF_Prediction)"
      ],
      "execution_count": null,
      "outputs": [
        {
          "output_type": "stream",
          "text": [
            "Accuracy score:  0.766\n",
            "Precision score:  0.8083207497105211\n",
            "Recall score: 0.757802795031056\n",
            "F1 score:  0.777652043434456\n"
          ],
          "name": "stdout"
        },
        {
          "output_type": "execute_result",
          "data": {
            "text/plain": [
              "(None, None, None, None)"
            ]
          },
          "metadata": {
            "tags": []
          },
          "execution_count": 32
        }
      ]
    },
    {
      "cell_type": "markdown",
      "metadata": {
        "id": "I2KY4_0rZEBf"
      },
      "source": [
        "#การปรับปรุง Model ด้วย Hyperparameter Tuning the Random Forest"
      ]
    },
    {
      "cell_type": "markdown",
      "metadata": {
        "id": "LfG9t3vBZOAp"
      },
      "source": [
        "ความหมาย\n",
        "set of hyperparameters:\n",
        "- n_estimators = number of trees in the foreset\n",
        "- max_features = max number of features considered for splitting a node\n",
        "- max_depth = max number of levels in each decision tree\n",
        "- min_samples_split = min number of data points placed in a node before the node is split\n",
        "- min_samples_leaf = min number of data points allowed in a leaf node\n",
        "- bootstrap = method for sampling data points (with or without replacement)\n"
      ]
    },
    {
      "cell_type": "markdown",
      "metadata": {
        "id": "1p217FvUZSTS"
      },
      "source": [
        "การ Tuning ตัวแปรที่มีผลต่อความแม่นยำ\n",
        "\n",
        "- n_estimators: จำนวน tree ใน Random Forest จำนวน tree ที่มากขึ้น จะทำให้ model performance ดีขึ้นจนถึงจุดนึงที่ performance เริ่มจะนิ่ง จนจำนวน tree ไม่มีผลต่อ model performance แล้ว… จำนวน tree ที่แนะนำ ตอนเทส model คร่าวๆ ก็ใช้ค่าน้อยๆ ก่อน (50–100 tree) ส่วนตอนที่จำ train จริงจังแล้วก็ใช้ค่า 1000 tree ขึ้นไป\n",
        "- oob_score (True/False) : out of bag score (oob score) เป็นการระบุว่าจะใช้ data ในส่วนที่ไม่ถูก sample ไปทำ training โดยแต่ละ decision tree ใน Random Forest (step ทำ bootstrapping ในภาพ 1)สำหรับคำนวณ error ซึ่งเทียบเท่ากับการทำ validation จาก training set โดยที่ไม่ต้องทำแบ่งข้อมูลสำหรับทำ validation นั่นเอง! ซึ่งจะมีประโยชน์อย่างมากตอนที่เรามี data set ไม่ใหญ่มาก และไม่อยากหั่นข้อมูลสำหรับ validation set อีก\n",
        "- min_samples_leaf : ระบุจำนวนข้อมูลขั้นต่ำใน leaf node ของแต่ละ decision tree หากมีจำนวนข้อมูลต่ำกว่า min_samples_leaf ให้หยุด split node นั้นๆ เป็นการลด overfitting… เราจะกำหนดค่า min_samples_leaf ให้สอดคล้องตามขนาดของ data set (เช่น ตั้งแต่ 2–100 ตามขนาดข้อมูล)\n",
        "- max_features (0.0–1.0): ระบุว่าแต่ละ decision tree ใน Random Forest จะสามารถสุ่มหยิบ feature ไปได้มากที่สุดกี่ % (0.0–1.0 -> 0–100%) ซึ่งการไม่ set ค่าดังกล่าวสูงจนเกินไป จะเป็นการลดความสัมพันธ์กันเองของ tree (ลด correlation) และลดโอกาส overfit ของ model"
      ]
    },
    {
      "cell_type": "code",
      "metadata": {
        "id": "2Z0IRWsxZITm"
      },
      "source": [
        "def RandomForest_Training_Model(feature,label):\n",
        "    from sklearn.ensemble import RandomForestClassifier\n",
        "\n",
        "    RF_Model = RandomForestClassifier(  max_depth=40,random_state=41,criterion='entropy',n_estimators=200,oob_score=True,max_features=0.5 ,n_jobs=-1,min_samples_leaf=3,bootstrap=True)\n",
        "\n",
        "    clf_RF_model = RF_Model.fit(feature,label)\n",
        "\n",
        "    return clf_RF_model"
      ],
      "execution_count": null,
      "outputs": []
    },
    {
      "cell_type": "code",
      "metadata": {
        "id": "pFqAet6KZiuk"
      },
      "source": [
        "ESRB_RF_Model = RandomForest_Training_Model(train_feature,train_label)"
      ],
      "execution_count": null,
      "outputs": []
    },
    {
      "cell_type": "code",
      "metadata": {
        "colab": {
          "base_uri": "https://localhost:8080/",
          "height": 965
        },
        "id": "WAFtD7UwZmeC",
        "outputId": "6869649b-b979-48ae-9030-8ba2714b2d0a"
      },
      "source": [
        "feat_imp = pd.DataFrame()\n",
        "feat_imp['feat_name'] = train_feature.columns\n",
        "feat_imp['score'] = ESRB_RF_Model.feature_importances_\n",
        "feat_imp.sort_values(by='score', ascending=False)"
      ],
      "execution_count": null,
      "outputs": [
        {
          "output_type": "execute_result",
          "data": {
            "text/html": [
              "<div>\n",
              "<style scoped>\n",
              "    .dataframe tbody tr th:only-of-type {\n",
              "        vertical-align: middle;\n",
              "    }\n",
              "\n",
              "    .dataframe tbody tr th {\n",
              "        vertical-align: top;\n",
              "    }\n",
              "\n",
              "    .dataframe thead th {\n",
              "        text-align: right;\n",
              "    }\n",
              "</style>\n",
              "<table border=\"1\" class=\"dataframe\">\n",
              "  <thead>\n",
              "    <tr style=\"text-align: right;\">\n",
              "      <th></th>\n",
              "      <th>feat_name</th>\n",
              "      <th>score</th>\n",
              "    </tr>\n",
              "  </thead>\n",
              "  <tbody>\n",
              "    <tr>\n",
              "      <th>25</th>\n",
              "      <td>strong_janguage</td>\n",
              "      <td>0.169482</td>\n",
              "    </tr>\n",
              "    <tr>\n",
              "      <th>19</th>\n",
              "      <td>no_descriptors</td>\n",
              "      <td>0.152610</td>\n",
              "    </tr>\n",
              "    <tr>\n",
              "      <th>2</th>\n",
              "      <td>blood</td>\n",
              "      <td>0.123051</td>\n",
              "    </tr>\n",
              "    <tr>\n",
              "      <th>3</th>\n",
              "      <td>blood_and_gore</td>\n",
              "      <td>0.115669</td>\n",
              "    </tr>\n",
              "    <tr>\n",
              "      <th>7</th>\n",
              "      <td>fantasy_violence</td>\n",
              "      <td>0.097449</td>\n",
              "    </tr>\n",
              "    <tr>\n",
              "      <th>14</th>\n",
              "      <td>mild_fantasy_violence</td>\n",
              "      <td>0.054397</td>\n",
              "    </tr>\n",
              "    <tr>\n",
              "      <th>9</th>\n",
              "      <td>language</td>\n",
              "      <td>0.032244</td>\n",
              "    </tr>\n",
              "    <tr>\n",
              "      <th>27</th>\n",
              "      <td>suggestive_themes</td>\n",
              "      <td>0.027300</td>\n",
              "    </tr>\n",
              "    <tr>\n",
              "      <th>8</th>\n",
              "      <td>intense_violence</td>\n",
              "      <td>0.025110</td>\n",
              "    </tr>\n",
              "    <tr>\n",
              "      <th>30</th>\n",
              "      <td>violence</td>\n",
              "      <td>0.022450</td>\n",
              "    </tr>\n",
              "    <tr>\n",
              "      <th>24</th>\n",
              "      <td>simulated_gambling</td>\n",
              "      <td>0.021241</td>\n",
              "    </tr>\n",
              "    <tr>\n",
              "      <th>12</th>\n",
              "      <td>mild_blood</td>\n",
              "      <td>0.018297</td>\n",
              "    </tr>\n",
              "    <tr>\n",
              "      <th>23</th>\n",
              "      <td>sexual_themes</td>\n",
              "      <td>0.018270</td>\n",
              "    </tr>\n",
              "    <tr>\n",
              "      <th>26</th>\n",
              "      <td>strong_sexual_content</td>\n",
              "      <td>0.016518</td>\n",
              "    </tr>\n",
              "    <tr>\n",
              "      <th>0</th>\n",
              "      <td>alcohol_reference</td>\n",
              "      <td>0.013209</td>\n",
              "    </tr>\n",
              "    <tr>\n",
              "      <th>5</th>\n",
              "      <td>crude_humor</td>\n",
              "      <td>0.012757</td>\n",
              "    </tr>\n",
              "    <tr>\n",
              "      <th>18</th>\n",
              "      <td>mild_violence</td>\n",
              "      <td>0.011187</td>\n",
              "    </tr>\n",
              "    <tr>\n",
              "      <th>13</th>\n",
              "      <td>mild_cartoon_violence</td>\n",
              "      <td>0.011008</td>\n",
              "    </tr>\n",
              "    <tr>\n",
              "      <th>16</th>\n",
              "      <td>mild_lyrics</td>\n",
              "      <td>0.010459</td>\n",
              "    </tr>\n",
              "    <tr>\n",
              "      <th>4</th>\n",
              "      <td>cartoon_violence</td>\n",
              "      <td>0.007909</td>\n",
              "    </tr>\n",
              "    <tr>\n",
              "      <th>6</th>\n",
              "      <td>drug_reference</td>\n",
              "      <td>0.007362</td>\n",
              "    </tr>\n",
              "    <tr>\n",
              "      <th>17</th>\n",
              "      <td>mild_suggestive_themes</td>\n",
              "      <td>0.007315</td>\n",
              "    </tr>\n",
              "    <tr>\n",
              "      <th>10</th>\n",
              "      <td>lyrics</td>\n",
              "      <td>0.007204</td>\n",
              "    </tr>\n",
              "    <tr>\n",
              "      <th>21</th>\n",
              "      <td>partial_nudity</td>\n",
              "      <td>0.004396</td>\n",
              "    </tr>\n",
              "    <tr>\n",
              "      <th>15</th>\n",
              "      <td>mild_language</td>\n",
              "      <td>0.003402</td>\n",
              "    </tr>\n",
              "    <tr>\n",
              "      <th>28</th>\n",
              "      <td>use_of_alcohol</td>\n",
              "      <td>0.003132</td>\n",
              "    </tr>\n",
              "    <tr>\n",
              "      <th>1</th>\n",
              "      <td>animated_blood</td>\n",
              "      <td>0.002707</td>\n",
              "    </tr>\n",
              "    <tr>\n",
              "      <th>22</th>\n",
              "      <td>sexual_content</td>\n",
              "      <td>0.002068</td>\n",
              "    </tr>\n",
              "    <tr>\n",
              "      <th>29</th>\n",
              "      <td>use_of_drugs_and_alcohol</td>\n",
              "      <td>0.000811</td>\n",
              "    </tr>\n",
              "    <tr>\n",
              "      <th>11</th>\n",
              "      <td>mature_humor</td>\n",
              "      <td>0.000737</td>\n",
              "    </tr>\n",
              "    <tr>\n",
              "      <th>20</th>\n",
              "      <td>nudity</td>\n",
              "      <td>0.000246</td>\n",
              "    </tr>\n",
              "  </tbody>\n",
              "</table>\n",
              "</div>"
            ],
            "text/plain": [
              "                   feat_name     score\n",
              "25           strong_janguage  0.169482\n",
              "19            no_descriptors  0.152610\n",
              "2                      blood  0.123051\n",
              "3             blood_and_gore  0.115669\n",
              "7           fantasy_violence  0.097449\n",
              "14     mild_fantasy_violence  0.054397\n",
              "9                   language  0.032244\n",
              "27         suggestive_themes  0.027300\n",
              "8           intense_violence  0.025110\n",
              "30                  violence  0.022450\n",
              "24        simulated_gambling  0.021241\n",
              "12                mild_blood  0.018297\n",
              "23             sexual_themes  0.018270\n",
              "26     strong_sexual_content  0.016518\n",
              "0          alcohol_reference  0.013209\n",
              "5                crude_humor  0.012757\n",
              "18             mild_violence  0.011187\n",
              "13     mild_cartoon_violence  0.011008\n",
              "16               mild_lyrics  0.010459\n",
              "4           cartoon_violence  0.007909\n",
              "6             drug_reference  0.007362\n",
              "17    mild_suggestive_themes  0.007315\n",
              "10                    lyrics  0.007204\n",
              "21            partial_nudity  0.004396\n",
              "15             mild_language  0.003402\n",
              "28            use_of_alcohol  0.003132\n",
              "1             animated_blood  0.002707\n",
              "22            sexual_content  0.002068\n",
              "29  use_of_drugs_and_alcohol  0.000811\n",
              "11              mature_humor  0.000737\n",
              "20                    nudity  0.000246"
            ]
          },
          "metadata": {
            "tags": []
          },
          "execution_count": 35
        }
      ]
    },
    {
      "cell_type": "code",
      "metadata": {
        "id": "oF-u-8-hZrGF"
      },
      "source": [
        "ESRB_RF_Prediction = ESRB_RF_Model.predict(test_feature)"
      ],
      "execution_count": null,
      "outputs": []
    },
    {
      "cell_type": "code",
      "metadata": {
        "id": "Rnu7aMfLZrcu"
      },
      "source": [
        "def Model_Performace_Score(y_actual,y_predict):\n",
        "    from sklearn.metrics import accuracy_score\n",
        "    from sklearn.metrics import precision_score\n",
        "    from sklearn.metrics import recall_score\n",
        "    from sklearn.metrics import f1_score\n",
        "    \n",
        "    DT_Accuracy = format(accuracy_score(y_actual,y_predict))\n",
        "    DT_Precision = format(precision_score(y_actual,y_predict,average='macro'))\n",
        "    DT_Recall =format(recall_score(y_actual,y_predict,average='macro'))\n",
        "    DT_F1=format(f1_score(y_actual,y_predict,average='macro'))\n",
        "    Accuracy=print('Accuracy score: ', DT_Accuracy)\n",
        "    Precision=print('Precision score: ',DT_Precision)\n",
        "    Recall=print('Recall score:',DT_Recall)\n",
        "    F1=print('F1 score: ',DT_F1)\n",
        "    return  (Accuracy,Precision,Recall,F1)"
      ],
      "execution_count": null,
      "outputs": []
    },
    {
      "cell_type": "code",
      "metadata": {
        "colab": {
          "base_uri": "https://localhost:8080/"
        },
        "id": "VWdX2Ai-ZwTh",
        "outputId": "4cfedeab-fe84-465d-a98f-d1b037a39a41"
      },
      "source": [
        "Model_Performace_Score(test_label,ESRB_RF_Prediction)"
      ],
      "execution_count": null,
      "outputs": [
        {
          "output_type": "stream",
          "text": [
            "Accuracy score:  0.834\n",
            "Precision score:  0.8570435636941344\n",
            "Recall score: 0.8246851276742581\n",
            "F1 score:  0.8342601874925696\n"
          ],
          "name": "stdout"
        },
        {
          "output_type": "execute_result",
          "data": {
            "text/plain": [
              "(None, None, None, None)"
            ]
          },
          "metadata": {
            "tags": []
          },
          "execution_count": 38
        }
      ]
    },
    {
      "cell_type": "markdown",
      "metadata": {
        "id": "BqEbAJkuZxnV"
      },
      "source": [
        "#จะพบว่า Score เพิ่มขึ้นทั้ง Accuracy,Precision,Recall,F1"
      ]
    },
    {
      "cell_type": "markdown",
      "metadata": {
        "id": "fWYqgWc8PG3V"
      },
      "source": [
        "# Create ML Model Pipline"
      ]
    },
    {
      "cell_type": "code",
      "metadata": {
        "id": "MWDpzlgzPG3W"
      },
      "source": [
        "def Create_model_pipline():\n",
        "    #Get data\n",
        "    train_set,test_set = load_data()\n",
        "\n",
        "    # Data Cleansing\n",
        "    data_preprocessing(train_set)\n",
        "    data_preprocessing(test_set)\n",
        "       \n",
        "    #Feature Extraction\n",
        "    train_feature,train_label = Feature_Extraction(train_set)\n",
        "    test_feature,test_label = Feature_Extraction(test_set)\n",
        "    \n",
        "    #Train Model\n",
        "    ESRB_RF_Model = RandomForest_Training_Model(train_feature,train_label) # Random Forest\n",
        "    \n",
        "    #Predection\n",
        "    ESRB_RF_Prediction = ESRB_RF_Model.predict(test_feature)\n",
        "\n",
        "    # Evaluation\n",
        "    Perfomanance = Model_Performace_Score(test_label,ESRB_RF_Prediction)\n",
        "\n",
        "    return Perfomanance"
      ],
      "execution_count": null,
      "outputs": []
    },
    {
      "cell_type": "code",
      "metadata": {
        "id": "5i1lbj2pPG3W",
        "colab": {
          "base_uri": "https://localhost:8080/"
        },
        "outputId": "b28cb718-db48-41a5-ae2e-feb0f97ed81d"
      },
      "source": [
        "Create_model_pipline()"
      ],
      "execution_count": null,
      "outputs": [
        {
          "output_type": "stream",
          "text": [
            "Accuracy score:  0.834\n",
            "Precision score:  0.8570435636941344\n",
            "Recall score: 0.8246851276742581\n",
            "F1 score:  0.8342601874925696\n"
          ],
          "name": "stdout"
        },
        {
          "output_type": "execute_result",
          "data": {
            "text/plain": [
              "(None, None, None, None)"
            ]
          },
          "metadata": {
            "tags": []
          },
          "execution_count": 40
        }
      ]
    },
    {
      "cell_type": "markdown",
      "metadata": {
        "id": "H5-S5aH0PG3X"
      },
      "source": [
        "# Save Model as Joblib"
      ]
    },
    {
      "cell_type": "code",
      "metadata": {
        "id": "qrG3XHJfPG3X"
      },
      "source": [
        "import joblib"
      ],
      "execution_count": null,
      "outputs": []
    },
    {
      "cell_type": "code",
      "metadata": {
        "id": "V39X38wKPG3X",
        "colab": {
          "base_uri": "https://localhost:8080/"
        },
        "outputId": "7f7ecea3-4bc9-42fa-dc2b-b3ec4c74443e"
      },
      "source": [
        "joblib.dump(ESRB_RF_Model,'ESRB_RF.model')"
      ],
      "execution_count": null,
      "outputs": [
        {
          "output_type": "execute_result",
          "data": {
            "text/plain": [
              "['ESRB_RF.model']"
            ]
          },
          "metadata": {
            "tags": []
          },
          "execution_count": 42
        }
      ]
    },
    {
      "cell_type": "markdown",
      "metadata": {
        "id": "xrrf0nH3pNMe"
      },
      "source": [
        "#การนำไปใช้ประโยชน์ \n",
        "\n",
        "\n"
      ]
    },
    {
      "cell_type": "markdown",
      "metadata": {
        "id": "Qwa5ix_7pE64"
      },
      "source": [
        "การให้คะแนน ESRB ให้ข้อมูลเกี่ยวกับสิ่งที่อยู่ในเกมหรือแอปเพื่อให้ผู้ปกครองและผู้บริโภคตัดสินใจเลือกเกมที่เหมาะกับครอบครัวได้อย่างมีข้อมูล การให้คะแนนมี 3 ส่วน ได้แก่ หมวดหมู่การให้คะแนนตัวบอกเนื้อหาและองค์ประกอบเชิงโต้ตอบ\n",
        "เกี่ยวกับ ESRB\n",
        "ภารกิจหลักของเราคือช่วยผู้ปกครองในการตัดสินใจอย่างชาญฉลาดเกี่ยวกับวิดีโอเกมและแอปที่บุตรหลานเล่น สภาตรวจสอบการโฆษณาของเราบังคับใช้หลักเกณฑ์การโฆษณาที่นำมาใช้ในอุตสาหกรรมและโปรแกรมที่ได้รับการรับรองความเป็นส่วนตัวของเราจะช่วยให้มั่นใจได้ถึงแนวทางปฏิบัติด้านความเป็นส่วนตัวบนเว็บและอุปกรณ์เคลื่อนที่อย่างมีความรับผิดชอบ"
      ]
    },
    {
      "cell_type": "markdown",
      "metadata": {
        "id": "KkFxsPREpUPV"
      },
      "source": [
        "#1 สำหรับผู้ปกครองค้นหา Rating ด้วยการใส่ชื่อเกมส์  "
      ]
    },
    {
      "cell_type": "code",
      "metadata": {
        "colab": {
          "base_uri": "https://localhost:8080/"
        },
        "id": "yjvA6rKpnSoo",
        "outputId": "465004b0-3fe4-480a-e37e-6f964691917a"
      },
      "source": [
        "#@title Rating by name\n",
        "answer_list = []\n",
        "keyword =   \"deadpool\" #@param {type:\"string\"}\n",
        "import webbrowser\n",
        "url = 'https://www.esrb.org/search/?searchKeyword='+keyword\n",
        "url = str(url)\n",
        "webbrowser.open(url)\n",
        "print('Click'+url)\n",
        "\n"
      ],
      "execution_count": null,
      "outputs": [
        {
          "output_type": "stream",
          "text": [
            "Clickhttps://www.esrb.org/search/?searchKeyword=deadpool\n"
          ],
          "name": "stdout"
        }
      ]
    },
    {
      "cell_type": "markdown",
      "metadata": {
        "id": "In4Nbrykp4tY"
      },
      "source": [
        "#2. สำหรับนักพัฒนาเกมส์ ใส่ข้อมูล Feature ที่มีในเกมส์เพื่อจัด Rating"
      ]
    },
    {
      "cell_type": "code",
      "metadata": {
        "colab": {
          "base_uri": "https://localhost:8080/",
          "height": 97
        },
        "id": "nDzjMHC5qBJm",
        "outputId": "d5386dcd-3161-4798-a15f-958c276f9544"
      },
      "source": [
        "#@title Estimate your ESRB by Feature\n",
        "answer_list = []\n",
        "Game_title = \"PSO2\" #@param {type:\"string\"}\n",
        "alcohol_reference =  0#@param  {type:\"number\"}\n",
        "animated_blood = 1 #@param  {type:\"number\"}\n",
        "blood = 1 #@param  {type:\"number\"}\n",
        "blood_and_gore = 1 #@param  {type:\"number\"}\n",
        "cartoon_violence = 1 #@param  {type:\"number\"}\n",
        "crude_humor = 0 #@param  {type:\"number\"}\n",
        "drug_reference = 1 #@param  {type:\"number\"}\n",
        "fantasy_violence = 0 #@param  {type:\"number\"}\n",
        "intense_violence = 1 #@param  {type:\"number\"}\n",
        "language = 1 #@param  {type:\"number\"}\n",
        "lyrics = 1 #@param  {type:\"number\"}\n",
        "mature_humor = 0 #@param  {type:\"number\"}\n",
        "mild_blood= 1 #@param  {type:\"number\"}\n",
        "mild_cartoon_violence = 1 #@param  {type:\"number\"}\n",
        "mild_fantasy_violence = 1 #@param  {type:\"number\"}\n",
        "mild_language = 1 #@param  {type:\"number\"}\n",
        "mild_lyrics = 1 #@param  {type:\"number\"}\n",
        "mild_suggestive_themes = 0 #@param  {type:\"number\"}\n",
        "mild_violence = 0 #@param  {type:\"number\"}\n",
        "no_descriptors= 1 #@param  {type:\"number\"}\n",
        "nudity = 0 #@param  {type:\"number\"}\n",
        "partial_nudity = 0 #@param  {type:\"number\"}\n",
        "sexual_content = 0 #@param  {type:\"number\"}\n",
        "sexual_themes = 0 #@param  {type:\"number\"}\n",
        "simulated_gambling = 0#@param  {type:\"number\"}\n",
        "strong_janguage = 0#@param  {type:\"number\"}\n",
        "strong_sexual_content= 0#@param  {type:\"number\"}\n",
        "suggestive_themes= 1#@param  {type:\"number\"}\n",
        "use_of_alcohol= 1 #@param  {type:\"number\"}\n",
        "use_of_drugs_and_alcohol= 1#@param {type:\"number\"}\n",
        "violence= 1#@param  {type:\"number\"}\n",
        "\n",
        "col = ['Game_title','alcohol_reference', 'animated_blood', 'blood', 'blood_and_gore',\n",
        "       'cartoon_violence', 'crude_humor', 'drug_reference', 'fantasy_violence',\n",
        "       'intense_violence', 'language', 'lyrics', 'mature_humor', 'mild_blood',\n",
        "       'mild_cartoon_violence', 'mild_fantasy_violence', 'mild_language',\n",
        "       'mild_lyrics', 'mild_suggestive_themes', 'mild_violence',\n",
        "       'no_descriptors', 'nudity', 'partial_nudity', 'sexual_content',\n",
        "       'sexual_themes', 'simulated_gambling', 'strong_janguage',\n",
        "       'strong_sexual_content', 'suggestive_themes', 'use_of_alcohol',\n",
        "       'use_of_drugs_and_alcohol', 'violence']\n",
        "predict_df = pd.DataFrame([[Game_title,alcohol_reference, animated_blood, blood, blood_and_gore,\n",
        "       cartoon_violence, crude_humor, drug_reference, fantasy_violence,\n",
        "       intense_violence, language, lyrics, mature_humor, mild_blood,\n",
        "       mild_cartoon_violence, mild_fantasy_violence, mild_language,\n",
        "       mild_lyrics, mild_suggestive_themes, mild_violence,\n",
        "       no_descriptors, nudity, partial_nudity, sexual_content,\n",
        "       sexual_themes, simulated_gambling, strong_janguage,\n",
        "       strong_sexual_content, suggestive_themes, use_of_alcohol,\n",
        "       use_of_drugs_and_alcohol, violence]],columns=col)\n",
        "\n",
        "surway = pd.concat([predict_df], axis=0)\n",
        "surway = surway.head(1)\n",
        "surway"
      ],
      "execution_count": null,
      "outputs": [
        {
          "output_type": "execute_result",
          "data": {
            "text/html": [
              "<div>\n",
              "<style scoped>\n",
              "    .dataframe tbody tr th:only-of-type {\n",
              "        vertical-align: middle;\n",
              "    }\n",
              "\n",
              "    .dataframe tbody tr th {\n",
              "        vertical-align: top;\n",
              "    }\n",
              "\n",
              "    .dataframe thead th {\n",
              "        text-align: right;\n",
              "    }\n",
              "</style>\n",
              "<table border=\"1\" class=\"dataframe\">\n",
              "  <thead>\n",
              "    <tr style=\"text-align: right;\">\n",
              "      <th></th>\n",
              "      <th>Game_title</th>\n",
              "      <th>alcohol_reference</th>\n",
              "      <th>animated_blood</th>\n",
              "      <th>blood</th>\n",
              "      <th>blood_and_gore</th>\n",
              "      <th>cartoon_violence</th>\n",
              "      <th>crude_humor</th>\n",
              "      <th>drug_reference</th>\n",
              "      <th>fantasy_violence</th>\n",
              "      <th>intense_violence</th>\n",
              "      <th>language</th>\n",
              "      <th>lyrics</th>\n",
              "      <th>mature_humor</th>\n",
              "      <th>mild_blood</th>\n",
              "      <th>mild_cartoon_violence</th>\n",
              "      <th>mild_fantasy_violence</th>\n",
              "      <th>mild_language</th>\n",
              "      <th>mild_lyrics</th>\n",
              "      <th>mild_suggestive_themes</th>\n",
              "      <th>mild_violence</th>\n",
              "      <th>no_descriptors</th>\n",
              "      <th>nudity</th>\n",
              "      <th>partial_nudity</th>\n",
              "      <th>sexual_content</th>\n",
              "      <th>sexual_themes</th>\n",
              "      <th>simulated_gambling</th>\n",
              "      <th>strong_janguage</th>\n",
              "      <th>strong_sexual_content</th>\n",
              "      <th>suggestive_themes</th>\n",
              "      <th>use_of_alcohol</th>\n",
              "      <th>use_of_drugs_and_alcohol</th>\n",
              "      <th>violence</th>\n",
              "    </tr>\n",
              "  </thead>\n",
              "  <tbody>\n",
              "    <tr>\n",
              "      <th>0</th>\n",
              "      <td>PSO2</td>\n",
              "      <td>0</td>\n",
              "      <td>1</td>\n",
              "      <td>1</td>\n",
              "      <td>1</td>\n",
              "      <td>1</td>\n",
              "      <td>0</td>\n",
              "      <td>1</td>\n",
              "      <td>0</td>\n",
              "      <td>1</td>\n",
              "      <td>1</td>\n",
              "      <td>1</td>\n",
              "      <td>0</td>\n",
              "      <td>1</td>\n",
              "      <td>1</td>\n",
              "      <td>1</td>\n",
              "      <td>1</td>\n",
              "      <td>1</td>\n",
              "      <td>0</td>\n",
              "      <td>0</td>\n",
              "      <td>1</td>\n",
              "      <td>0</td>\n",
              "      <td>0</td>\n",
              "      <td>0</td>\n",
              "      <td>0</td>\n",
              "      <td>0</td>\n",
              "      <td>0</td>\n",
              "      <td>0</td>\n",
              "      <td>1</td>\n",
              "      <td>1</td>\n",
              "      <td>1</td>\n",
              "      <td>1</td>\n",
              "    </tr>\n",
              "  </tbody>\n",
              "</table>\n",
              "</div>"
            ],
            "text/plain": [
              "  Game_title  alcohol_reference  ...  use_of_drugs_and_alcohol  violence\n",
              "0       PSO2                  0  ...                         1         1\n",
              "\n",
              "[1 rows x 32 columns]"
            ]
          },
          "metadata": {
            "tags": []
          },
          "execution_count": 108
        }
      ]
    },
    {
      "cell_type": "code",
      "metadata": {
        "id": "VnbcoYRHqQxD"
      },
      "source": [
        " ## Apply Model with Surway\n",
        " def apply_model(df): \n",
        "  apply_feature = df.values.tolist()[0]\n",
        "  Game_title = apply_feature[0] \n",
        "  \n",
        "  apply_feature =  str(apply_feature[1:]).strip('[').strip(']')\n",
        "  apply_feature = np.array(apply_feature.split(','),dtype=np.float32).reshape(1,-1)\n",
        "\n",
        "  Predict_result = ESRB_RF_Model.predict(apply_feature)\n",
        "\n",
        "  confident_value = ESRB_RF_Model.predict_proba(apply_feature)\n",
        "  confident_value = float(confident_value[0][Predict_result])\n",
        "  confident_value = round(confident_value,3)\n",
        "  predict_value = ''\n",
        "  if Predict_result == 0 :\n",
        "    predict_value = 'Everyone'\n",
        "  elif Predict_result == 1 :\n",
        "    predict_value = 'Everyone10+'\n",
        "  elif Predict_result == 2 :\n",
        "    predict_value = 'Teen'\n",
        "  else:\n",
        "    predict_value = 'Mature 17+'  \n",
        "\n",
        "  output = {\n",
        "      'Game Title' : Game_title,\n",
        "      'Predict Value': predict_value,\n",
        "      'confident': confident_value\n",
        "  }\n",
        "  \n",
        "  return output"
      ],
      "execution_count": null,
      "outputs": []
    },
    {
      "cell_type": "code",
      "metadata": {
        "id": "AJZAgidJ9l6b",
        "colab": {
          "base_uri": "https://localhost:8080/"
        },
        "outputId": "0da511ec-f06c-4a8b-d6d1-fcddf2984bea"
      },
      "source": [
        "apply_model(surway)"
      ],
      "execution_count": null,
      "outputs": [
        {
          "output_type": "execute_result",
          "data": {
            "text/plain": [
              "{'Game Title': 'PSO2', 'Predict Value': 'Teen', 'confident': 0.75}"
            ]
          },
          "metadata": {
            "tags": []
          },
          "execution_count": 117
        }
      ]
    },
    {
      "cell_type": "code",
      "metadata": {
        "id": "Nw-kVjmVMs3u"
      },
      "source": [
        ""
      ],
      "execution_count": null,
      "outputs": []
    },
    {
      "cell_type": "markdown",
      "metadata": {
        "id": "HDQbb2bkPRSS"
      },
      "source": [
        "#3. เรียกใช้งาน API บน Heroku\n",
        "\n",
        "\n"
      ]
    },
    {
      "cell_type": "code",
      "metadata": {
        "colab": {
          "base_uri": "https://localhost:8080/",
          "height": 97
        },
        "id": "vSfEAWQFPW4R",
        "outputId": "059e1720-4e89-46b9-e6ce-adc69f5972fa"
      },
      "source": [
        "#@title Estimate your ESRB by Feature\n",
        "answer_list = []\n",
        "Gametitle = \"PSO2\" #@param {type:\"string\"}\n",
        "alcoholreference =  0#@param  {type:\"number\"}\n",
        "animatedblood = 1 #@param  {type:\"number\"}\n",
        "blood = 1 #@param  {type:\"number\"}\n",
        "bloodandgore = 1 #@param  {type:\"number\"}\n",
        "cartoonviolence = 1 #@param  {type:\"number\"}\n",
        "crudehumor = 0 #@param  {type:\"number\"}\n",
        "drugreference = 1 #@param  {type:\"number\"}\n",
        "fantasyviolence = 0 #@param  {type:\"number\"}\n",
        "intenseviolence = 1 #@param  {type:\"number\"}\n",
        "language = 1 #@param  {type:\"number\"}\n",
        "lyrics = 1 #@param  {type:\"number\"}\n",
        "maturehumor = 0 #@param  {type:\"number\"}\n",
        "mildblood= 1 #@param  {type:\"number\"}\n",
        "mildcartoonviolence = 1 #@param  {type:\"number\"}\n",
        "mildfantasyviolence = 1 #@param  {type:\"number\"}\n",
        "mildlanguage = 1 #@param  {type:\"number\"}\n",
        "mildlyrics = 1 #@param  {type:\"number\"}\n",
        "mildsuggestivethemes = 0 #@param  {type:\"number\"}\n",
        "mildviolence = 0 #@param  {type:\"number\"}\n",
        "nodescriptors= 1 #@param  {type:\"number\"}\n",
        "nudity = 0 #@param  {type:\"number\"}\n",
        "partialnudity = 0 #@param  {type:\"number\"}\n",
        "sexualcontent = 0 #@param  {type:\"number\"}\n",
        "sexualthemes = 0 #@param  {type:\"number\"}\n",
        "simulatedgambling = 0#@param  {type:\"number\"}\n",
        "strongjanguage = 0#@param  {type:\"number\"}\n",
        "strongsexualcontent= 0#@param  {type:\"number\"}\n",
        "suggestivethemes= 1#@param  {type:\"number\"}\n",
        "useofalcohol= 1 #@param  {type:\"number\"}\n",
        "useofdrugsandalcohol= 1#@param {type:\"number\"}\n",
        "violence= 1#@param  {type:\"number\"}\n",
        "\n",
        "col = ['GameTitle','AlcoholReference', 'AnimatedBlood', 'Blood', 'BloodandGore',\n",
        "       'CartoonViolence', 'CrudeHumor', 'DrugReference', 'FantasyViolence',\n",
        "       'IntenseViolence', 'Language', 'Lyrics', 'MatureHumor', 'MildBlood',\n",
        "       'MildCartoonViolence', 'MildFantasyViolence', 'MildLanguage',\n",
        "       'MildLyrics', 'MildSuggestiveThemes', 'MildViolence',\n",
        "       'NoDescriptors', 'Nudity', 'PartialNudity', 'SexualContent',\n",
        "       'SexualThemes', 'SimulatedGambling', 'StrongLanguage',\n",
        "       'StrongSexualContent', 'SuggestiveThemes', 'UseofAlcohol',\n",
        "       'UseofDrugsandAlcohol', 'Violence']\n",
        "predict_df = pd.DataFrame([[Gametitle,alcoholreference, animatedblood, blood, bloodandgore,\n",
        "       cartoonviolence, crudehumor, drugreference, fantasyviolence,\n",
        "       intenseviolence, language, lyrics, maturehumor, mildblood,\n",
        "       mildcartoonviolence, mildfantasyviolence, mildlanguage,\n",
        "       mildlyrics, mildsuggestivethemes, mildviolence,\n",
        "       nodescriptors, nudity, partialnudity, sexualcontent,\n",
        "       sexualthemes, simulatedgambling, strongjanguage,\n",
        "       strongsexualcontent, suggestivethemes, useofalcohol,\n",
        "       useofdrugsandalcohol, violence]],columns=col)\n",
        "\n",
        "surway = pd.concat([predict_df], axis=0)\n",
        "surway = surway.head(1)\n",
        "surway"
      ],
      "execution_count": 155,
      "outputs": [
        {
          "output_type": "execute_result",
          "data": {
            "text/html": [
              "<div>\n",
              "<style scoped>\n",
              "    .dataframe tbody tr th:only-of-type {\n",
              "        vertical-align: middle;\n",
              "    }\n",
              "\n",
              "    .dataframe tbody tr th {\n",
              "        vertical-align: top;\n",
              "    }\n",
              "\n",
              "    .dataframe thead th {\n",
              "        text-align: right;\n",
              "    }\n",
              "</style>\n",
              "<table border=\"1\" class=\"dataframe\">\n",
              "  <thead>\n",
              "    <tr style=\"text-align: right;\">\n",
              "      <th></th>\n",
              "      <th>GameTitle</th>\n",
              "      <th>AlcoholReference</th>\n",
              "      <th>AnimatedBlood</th>\n",
              "      <th>Blood</th>\n",
              "      <th>BloodandGore</th>\n",
              "      <th>CartoonViolence</th>\n",
              "      <th>CrudeHumor</th>\n",
              "      <th>DrugReference</th>\n",
              "      <th>FantasyViolence</th>\n",
              "      <th>IntenseViolence</th>\n",
              "      <th>Language</th>\n",
              "      <th>Lyrics</th>\n",
              "      <th>MatureHumor</th>\n",
              "      <th>MildBlood</th>\n",
              "      <th>MildCartoonViolence</th>\n",
              "      <th>MildFantasyViolence</th>\n",
              "      <th>MildLanguage</th>\n",
              "      <th>MildLyrics</th>\n",
              "      <th>MildSuggestiveThemes</th>\n",
              "      <th>MildViolence</th>\n",
              "      <th>NoDescriptors</th>\n",
              "      <th>Nudity</th>\n",
              "      <th>PartialNudity</th>\n",
              "      <th>SexualContent</th>\n",
              "      <th>SexualThemes</th>\n",
              "      <th>SimulatedGambling</th>\n",
              "      <th>StrongLanguage</th>\n",
              "      <th>StrongSexualContent</th>\n",
              "      <th>SuggestiveThemes</th>\n",
              "      <th>UseofAlcohol</th>\n",
              "      <th>UseofDrugsandAlcohol</th>\n",
              "      <th>Violence</th>\n",
              "    </tr>\n",
              "  </thead>\n",
              "  <tbody>\n",
              "    <tr>\n",
              "      <th>0</th>\n",
              "      <td>PSO2</td>\n",
              "      <td>0</td>\n",
              "      <td>1</td>\n",
              "      <td>1</td>\n",
              "      <td>1</td>\n",
              "      <td>1</td>\n",
              "      <td>0</td>\n",
              "      <td>1</td>\n",
              "      <td>0</td>\n",
              "      <td>1</td>\n",
              "      <td>1</td>\n",
              "      <td>1</td>\n",
              "      <td>0</td>\n",
              "      <td>1</td>\n",
              "      <td>1</td>\n",
              "      <td>1</td>\n",
              "      <td>1</td>\n",
              "      <td>1</td>\n",
              "      <td>0</td>\n",
              "      <td>0</td>\n",
              "      <td>1</td>\n",
              "      <td>0</td>\n",
              "      <td>0</td>\n",
              "      <td>0</td>\n",
              "      <td>0</td>\n",
              "      <td>0</td>\n",
              "      <td>0</td>\n",
              "      <td>0</td>\n",
              "      <td>1</td>\n",
              "      <td>1</td>\n",
              "      <td>1</td>\n",
              "      <td>1</td>\n",
              "    </tr>\n",
              "  </tbody>\n",
              "</table>\n",
              "</div>"
            ],
            "text/plain": [
              "  GameTitle  AlcoholReference  ...  UseofDrugsandAlcohol  Violence\n",
              "0      PSO2                 0  ...                     1         1\n",
              "\n",
              "[1 rows x 32 columns]"
            ]
          },
          "metadata": {
            "tags": []
          },
          "execution_count": 155
        }
      ]
    },
    {
      "cell_type": "code",
      "metadata": {
        "colab": {
          "base_uri": "https://localhost:8080/"
        },
        "id": "rK-KZBvwPvV2",
        "outputId": "7bcdd631-ea61-43e0-8477-682f64cc0706"
      },
      "source": [
        "import requests\n",
        "url = 'https://dse3-esrb-rating-prediction.herokuapp.com/ESRB-Rating-Prediction'\n",
        "param = surway.to_dict('records')[0]\n",
        "x = requests.post(url, data = param)\n",
        "print(x.text)"
      ],
      "execution_count": 159,
      "outputs": [
        {
          "output_type": "stream",
          "text": [
            "{\"Confident\":0.75,\"Game Title : \":\"PSO2\",\"Rating : \":\"Teen\"}\n",
            "\n"
          ],
          "name": "stdout"
        }
      ]
    },
    {
      "cell_type": "code",
      "metadata": {
        "id": "aXD9SK6vQLOL"
      },
      "source": [
        "  "
      ],
      "execution_count": null,
      "outputs": []
    }
  ]
}